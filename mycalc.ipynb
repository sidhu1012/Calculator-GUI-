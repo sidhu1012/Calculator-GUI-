{
 "cells": [
  {
   "cell_type": "code",
   "execution_count": 1,
   "metadata": {},
   "outputs": [],
   "source": [
    "from tkinter import *"
   ]
  },
  {
   "cell_type": "code",
   "execution_count": 2,
   "metadata": {},
   "outputs": [],
   "source": [
    "exp=''"
   ]
  },
  {
   "cell_type": "code",
   "execution_count": 3,
   "metadata": {},
   "outputs": [],
   "source": [
    "def press(num):\n",
    "    global exp\n",
    "    exp=exp+str(num)\n",
    "    eqn.set(exp)"
   ]
  },
  {
   "cell_type": "code",
   "execution_count": 4,
   "metadata": {},
   "outputs": [],
   "source": [
    "def equalpress():\n",
    "    try:\n",
    "        global exp\n",
    "        total=str(eval(exp))\n",
    "        eqn.set(total)\n",
    "        exp=''\n",
    "    except:\n",
    "        eqn.set('error')\n",
    "        exp=''"
   ]
  },
  {
   "cell_type": "code",
   "execution_count": 5,
   "metadata": {},
   "outputs": [],
   "source": [
    "def clear():\n",
    "    global exp\n",
    "    exp=''\n",
    "    eqn.set('')"
   ]
  },
  {
   "cell_type": "code",
   "execution_count": 7,
   "metadata": {},
   "outputs": [],
   "source": [
    "calc=Tk()\n",
    "calc.configure(background='black')\n",
    "calc.title('My Calculator')\n",
    "calc.geometry('270x150')\n",
    "eqn=StringVar()\n",
    "exp_field=Entry(calc,textvariable=eqn)\n",
    "exp_field.grid(columnspan=4,ipadx=70)\n",
    "eqn.set('Enter your expression')\n",
    "b1=Button(calc,text='1',fg='black',command=lambda: press(1),height=1,width=7)\n",
    "b1.grid(row=2,column=0)\n",
    "b2=Button(calc,text='2',fg='black',command=lambda: press(2),height=1,width=7)\n",
    "b2.grid(row=2,column=1)\n",
    "b3=Button(calc,text='3',fg='black',command=lambda: press(3),height=1,width=7)\n",
    "b3.grid(row=2,column=2)\n",
    "b4=Button(calc,text='4',fg='black',command=lambda: press(4),height=1,width=7)\n",
    "b4.grid(row=3,column=0)\n",
    "b5=Button(calc,text='5',fg='black',command=lambda: press(5),height=1,width=7)\n",
    "b5.grid(row=3,column=1)\n",
    "b6=Button(calc,text='6',fg='black',command=lambda: press(6),height=1,width=7)\n",
    "b6.grid(row=3,column=2)\n",
    "b7=Button(calc,text='7',fg='black',command=lambda: press(7),height=1,width=7)\n",
    "b7.grid(row=4,column=0)\n",
    "b8=Button(calc,text='8',fg='black',command=lambda: press(8),height=1,width=7)\n",
    "b8.grid(row=4,column=1)\n",
    "b9=Button(calc,text='9',fg='black',command=lambda: press(9),height=1,width=7)\n",
    "b9.grid(row=4,column=2)\n",
    "clear=Button(calc,text='clear',fg='black',command=clear,height=1,width=7)\n",
    "clear.grid(row=5,column=0)\n",
    "b0=Button(calc,text='0',fg='black',command=lambda: press(0),height=1,width=7)\n",
    "b0.grid(row=5,column=1)\n",
    "equal = Button(calc, text=' = ', fg='black',command=equalpress, height=1, width=7) \n",
    "equal.grid(row=5, column=2)\n",
    "Decimal= Button(calc, text='.', fg='black',command=lambda: press('.'), height=1, width=7) \n",
    "Decimal.grid(row=6, column=0) \n",
    "plus = Button(calc, text=' + ', fg='black',command=lambda: press(\"+\"), height=1, width=7) \n",
    "plus.grid(row=2, column=3) \n",
    "minus = Button(calc, text=' - ', fg='black',command=lambda: press(\"-\"), height=1, width=7) \n",
    "minus.grid(row=3, column=3) \n",
    "multiply = Button(calc, text=' * ', fg='black',command=lambda: press(\"*\"), height=1, width=7) \n",
    "multiply.grid(row=4, column=3) \n",
    "divide = Button(calc, text=' / ', fg='black',command=lambda: press(\"/\"), height=1, width=7) \n",
    "divide.grid(row=5, column=3) \n",
    "calc.mainloop()  "
   ]
  },
  {
   "cell_type": "code",
   "execution_count": null,
   "metadata": {},
   "outputs": [],
   "source": []
  }
 ],
 "metadata": {
  "kernelspec": {
   "display_name": "Python 3",
   "language": "python",
   "name": "python3"
  },
  "language_info": {
   "codemirror_mode": {
    "name": "ipython",
    "version": 3
   },
   "file_extension": ".py",
   "mimetype": "text/x-python",
   "name": "python",
   "nbconvert_exporter": "python",
   "pygments_lexer": "ipython3",
   "version": "3.7.7"
  }
 },
 "nbformat": 4,
 "nbformat_minor": 4
}
